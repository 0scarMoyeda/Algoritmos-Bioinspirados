{
 "cells": [
  {
   "cell_type": "code",
   "execution_count": 1,
   "id": "eba8a5a4",
   "metadata": {},
   "outputs": [],
   "source": [
    "import numpy as np"
   ]
  },
  {
   "cell_type": "markdown",
   "id": "027fd3d7",
   "metadata": {},
   "source": [
    "### Funcion Objetivo"
   ]
  },
  {
   "cell_type": "markdown",
   "id": "cb4691d4",
   "metadata": {},
   "source": [
    "Sphere function"
   ]
  },
  {
   "cell_type": "code",
   "execution_count": 2,
   "id": "f7e09a37",
   "metadata": {},
   "outputs": [],
   "source": [
    "def objective_function(x):\n",
    "    return np.sum(x**2)"
   ]
  },
  {
   "cell_type": "code",
   "execution_count": 3,
   "id": "d0cbd3ed",
   "metadata": {},
   "outputs": [],
   "source": [
    "# Initialize the population of antibodies randomly\n",
    "def initialize_population(pop_size, num_dimensions):\n",
    "    return np.random.uniform(-5, 5, (pop_size, num_dimensions))"
   ]
  },
  {
   "cell_type": "markdown",
   "id": "cbd0105b",
   "metadata": {},
   "source": [
    "### Fitness de los anticuerpos"
   ]
  },
  {
   "cell_type": "code",
   "execution_count": 4,
   "id": "7fdebef5",
   "metadata": {},
   "outputs": [],
   "source": [
    "def evaluate_affinity(population):\n",
    "    return np.array([objective_function(individual) for individual in population])"
   ]
  },
  {
   "cell_type": "markdown",
   "id": "21a22bc1",
   "metadata": {},
   "source": [
    "## Seleccion de los anticuerpos basado en su fitness"
   ]
  },
  {
   "cell_type": "code",
   "execution_count": 5,
   "id": "4366c5f1",
   "metadata": {},
   "outputs": [],
   "source": [
    "def selection(population, affinity, num_selected):\n",
    "    sorted_indices = np.argsort(affinity)\n",
    "    return population[sorted_indices][:num_selected]"
   ]
  },
  {
   "cell_type": "code",
   "execution_count": 6,
   "id": "870baf62",
   "metadata": {},
   "outputs": [],
   "source": [
    "# Perform clonal selection to create clones of antibodies\n",
    "def clonal_selection(selected_population, num_clones):\n",
    "    clones = np.repeat(selected_population, num_clones, axis=0)\n",
    "    return clones\n",
    "\n",
    "# Apply mutation to the clones\n",
    "def mutation(clones, mutation_rate):\n",
    "    mutated_clones = clones + np.random.normal(0, mutation_rate, clones.shape)\n",
    "    return mutated_clones\n",
    "\n",
    "# Update the population by replacing the least fit antibodies with the mutated clones\n",
    "def update_population(population, affinity, mutated_clones):\n",
    "    sorted_indices = np.argsort(affinity)\n",
    "    num_replaced = min(len(mutated_clones), len(population) - sorted_indices.size)\n",
    "    population[sorted_indices[:num_replaced]] = mutated_clones[:num_replaced]\n",
    "    return population\n",
    "\n",
    "# Main AIS optimization function\n",
    "def artificial_immune_system(pop_size, num_dimensions, num_iterations, num_selected, num_clones, mutation_rate):\n",
    "    population = initialize_population(pop_size, num_dimensions)\n",
    "    \n",
    "    for i in range(num_iterations):\n",
    "        affinity = evaluate_affinity(population)\n",
    "        selected_population = selection(population, affinity, num_selected)\n",
    "        clones = clonal_selection(selected_population, num_clones)\n",
    "        mutated_clones = mutation(clones, mutation_rate)\n",
    "        population = update_population(population, affinity, mutated_clones)\n",
    "    \n",
    "    best_solution = population[np.argmin(evaluate_affinity(population))]\n",
    "    return best_solution, objective_function(best_solution)\n"
   ]
  },
  {
   "cell_type": "code",
   "execution_count": 9,
   "id": "3a902762",
   "metadata": {},
   "outputs": [
    {
     "name": "stdout",
     "output_type": "stream",
     "text": [
      "Best solution: [0.16780916 0.11240613]\n",
      "Best fitness: 0.04079505323057922\n"
     ]
    }
   ],
   "source": [
    "# Parameters\n",
    "pop_size = 100\n",
    "num_dimensions = 2\n",
    "num_iterations = 100\n",
    "num_selected = 20\n",
    "num_clones = 10\n",
    "mutation_rate = 0.1\n",
    "\n",
    "# Run AIS algorithm\n",
    "best_solution, best_fitness = artificial_immune_system(pop_size, num_dimensions, num_iterations, num_selected, num_clones, mutation_rate)\n",
    "print(\"Best solution:\", best_solution)\n",
    "print(\"Best fitness:\", best_fitness)"
   ]
  },
  {
   "cell_type": "code",
   "execution_count": null,
   "id": "8e5c3203",
   "metadata": {},
   "outputs": [],
   "source": []
  }
 ],
 "metadata": {
  "kernelspec": {
   "display_name": "Python 3 (ipykernel)",
   "language": "python",
   "name": "python3"
  },
  "language_info": {
   "codemirror_mode": {
    "name": "ipython",
    "version": 3
   },
   "file_extension": ".py",
   "mimetype": "text/x-python",
   "name": "python",
   "nbconvert_exporter": "python",
   "pygments_lexer": "ipython3",
   "version": "3.11.3"
  }
 },
 "nbformat": 4,
 "nbformat_minor": 5
}
